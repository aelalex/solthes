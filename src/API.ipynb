{
 "cells": [
  {
   "cell_type": "code",
   "execution_count": null,
   "metadata": {},
   "outputs": [],
   "source": [
    "import requests\n",
    "import csv\n",
    "import math"
   ]
  },
  {
   "cell_type": "code",
   "execution_count": null,
   "metadata": {},
   "outputs": [],
   "source": [
    "#I need a function to define the parameters that will generate the tmy url.\n",
    "area=''\n",
    "url=\"https://re.jrc.ec.europa.eu/api/tmy?lat=45&lon=8&startyear=2005&endyear=2016&outputformat=csv\""
   ]
  },
  {
   "cell_type": "code",
   "execution_count": null,
   "metadata": {},
   "outputs": [],
   "source": [
    "def data_from_PVGIS(path,url):\n",
    "    \"\"\" Use requests to retrieve data from the PVGSIS API and use them directly to SOLTHES. \n",
    "    A tmy file is generated through the PVGIS API. The default format is the csv one. \"\"\"\n",
    "    \n",
    "    res=requests.get(url)\n",
    "\n",
    "    if res.status_code == 200:\n",
    "    # Print the get content in case you need.\n",
    "    # print(res.text)\n",
    "        data_filename=path+'.csv'\n",
    "        #Write data directly as it is already in a csv format.\n",
    "        with open(data_filename, 'w', encoding='utf-8', newline='') as output_file:\n",
    "            output_file.write(res.text)\n",
    "    else:\n",
    "        print(f\"Request failed with status code: {res.status_code}\")\n",
    "        print(f\"Fail message? {res.text}\")\n",
    "\n",
    "#data_from_PVGIS()"
   ]
  },
  {
   "cell_type": "code",
   "execution_count": null,
   "metadata": {},
   "outputs": [],
   "source": [
    "def main():\n",
    "    \"\"\" Main entry point for the script \"\"\"\n",
    "    #define the parameters for the data file\n",
    "    site='Volos' #Only for reference purposes\n",
    "    latitude='37.98'\n",
    "    longitude='23.72'\n",
    "    startyear='2005'\n",
    "    endyear='2016'\n",
    "    outputformat='csv'\n",
    "    url=\"https://re.jrc.ec.europa.eu/api/tmy?lat=\"+latitude+\"&lon=\"+longitude+\"&startyear=\"+startyear+\"&endyear=\"+endyear+\"&outputformat=\"+outputformat\n",
    "    \n",
    "    #Put into the specific folder\n",
    "    path='../data/data_'+site\n",
    "    \n",
    "    data_from_PVGIS(path,url)\n",
    "    #define path"
   ]
  },
  {
   "cell_type": "code",
   "execution_count": null,
   "metadata": {},
   "outputs": [],
   "source": [
    "main()"
   ]
  },
  {
   "cell_type": "code",
   "execution_count": 1,
   "metadata": {},
   "outputs": [],
   "source": [
    "import data_PVGIS as pvgis"
   ]
  },
  {
   "cell_type": "code",
   "execution_count": 3,
   "metadata": {},
   "outputs": [
    {
     "name": "stdout",
     "output_type": "stream",
     "text": [
      "csv file successfully stored in  ../data/data_Volos.csv\n"
     ]
    }
   ],
   "source": [
    "test=pvgis.site_data('Volos,37.98,23.72,2005,2016,csv') "
   ]
  },
  {
   "cell_type": "code",
   "execution_count": null,
   "metadata": {},
   "outputs": [],
   "source": []
  }
 ],
 "metadata": {
  "kernelspec": {
   "display_name": "Python 3",
   "language": "python",
   "name": "python3"
  },
  "language_info": {
   "codemirror_mode": {
    "name": "ipython",
    "version": 3
   },
   "file_extension": ".py",
   "mimetype": "text/x-python",
   "name": "python",
   "nbconvert_exporter": "python",
   "pygments_lexer": "ipython3",
   "version": "3.10.2"
  }
 },
 "nbformat": 4,
 "nbformat_minor": 2
}
